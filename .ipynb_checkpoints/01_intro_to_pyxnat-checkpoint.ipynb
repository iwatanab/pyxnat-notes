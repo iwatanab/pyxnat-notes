{
 "cells": [
  {
   "cell_type": "markdown",
   "metadata": {},
   "source": [
    "## querying xnat with pyxnat \n",
    "This notebook was set up to explore the basic querying features of pyxnat."
   ]
  },
  {
   "cell_type": "code",
   "execution_count": 2,
   "metadata": {},
   "outputs": [],
   "source": [
    "import pyxnat"
   ]
  },
  {
   "cell_type": "markdown",
   "metadata": {},
   "source": [
    "Create connection to XNAT's http interface"
   ]
  },
  {
   "cell_type": "code",
   "execution_count": 27,
   "metadata": {},
   "outputs": [
    {
     "name": "stdout",
     "output_type": "stream",
     "text": [
      "User: iwatanab\n",
      "········\n"
     ]
    }
   ],
   "source": [
    "from pyxnat import Interface\n",
    "central = Interface(server=\"http://xnat-11.xnat.org\")"
   ]
  },
  {
   "cell_type": "markdown",
   "metadata": {},
   "source": [
    "I have 2 projects created on XNAT. Here's how to get list of projects via the REST API:"
   ]
  },
  {
   "cell_type": "code",
   "execution_count": 29,
   "metadata": {},
   "outputs": [
    {
     "data": {
      "text/plain": [
       "['XNAT_2016', 'pyxnat']"
      ]
     },
     "execution_count": 29,
     "metadata": {},
     "output_type": "execute_result"
    }
   ],
   "source": [
    "central.select.projects().get()"
   ]
  },
  {
   "cell_type": "markdown",
   "metadata": {},
   "source": [
    "List out all subjects:"
   ]
  },
  {
   "cell_type": "code",
   "execution_count": 31,
   "metadata": {},
   "outputs": [
    {
     "data": {
      "text/plain": [
       "['XNAT_S00001', 'XNAT_S00002']"
      ]
     },
     "execution_count": 31,
     "metadata": {},
     "output_type": "execute_result"
    }
   ],
   "source": [
    "central.select.projects().subjects().get()"
   ]
  },
  {
   "cell_type": "markdown",
   "metadata": {},
   "source": [
    "Let's grab the 'pyxnat' (the second item in our projects list) project and list out or subjects:"
   ]
  },
  {
   "cell_type": "code",
   "execution_count": 32,
   "metadata": {},
   "outputs": [
    {
     "data": {
      "text/plain": [
       "['XNAT_S00002']"
      ]
     },
     "execution_count": 32,
     "metadata": {},
     "output_type": "execute_result"
    }
   ],
   "source": [
    "central.select.projects()[1].subjects().get()"
   ]
  },
  {
   "cell_type": "markdown",
   "metadata": {},
   "source": [
    "Instead of chaining object methods you can use a 'path' representing the XNAT hierarchy/data structure to query the database:"
   ]
  },
  {
   "cell_type": "code",
   "execution_count": 36,
   "metadata": {},
   "outputs": [
    {
     "data": {
      "text/plain": [
       "['XNAT_S00001', 'XNAT_S00002']"
      ]
     },
     "execution_count": 36,
     "metadata": {},
     "output_type": "execute_result"
    }
   ],
   "source": [
    "central.select('/projects/*/subjects').get() # get all subjects for all projects"
   ]
  },
  {
   "cell_type": "code",
   "execution_count": 37,
   "metadata": {},
   "outputs": [
    {
     "data": {
      "text/plain": [
       "['XNAT_S00002']"
      ]
     },
     "execution_count": 37,
     "metadata": {},
     "output_type": "execute_result"
    }
   ],
   "source": [
    "central.select('/projects/pyxnat/subjects').get() # get all subjects for project 'pyxnat'"
   ]
  },
  {
   "cell_type": "markdown",
   "metadata": {},
   "source": [
    "Let's see if we can grab a scan from an MR session. The documentation has no mention of methods/paths to get past subjects so let's take a look at the class methods:"
   ]
  },
  {
   "cell_type": "code",
   "execution_count": 45,
   "metadata": {},
   "outputs": [
    {
     "data": {
      "text/plain": [
       "['__class__',\n",
       " '__delattr__',\n",
       " '__dict__',\n",
       " '__doc__',\n",
       " '__format__',\n",
       " '__getattribute__',\n",
       " '__getitem__',\n",
       " '__hash__',\n",
       " '__init__',\n",
       " '__iter__',\n",
       " '__metaclass__',\n",
       " '__module__',\n",
       " '__new__',\n",
       " '__nonzero__',\n",
       " '__reduce__',\n",
       " '__reduce_ex__',\n",
       " '__repr__',\n",
       " '__setattr__',\n",
       " '__sizeof__',\n",
       " '__str__',\n",
       " '__subclasshook__',\n",
       " '__weakref__',\n",
       " '_call',\n",
       " '_cbase',\n",
       " '_columns',\n",
       " '_ctype',\n",
       " '_filters',\n",
       " '_id_header',\n",
       " '_intf',\n",
       " '_learn_from_table',\n",
       " '_nested',\n",
       " '_pattern',\n",
       " '_run_callback',\n",
       " 'experiment',\n",
       " 'experiments',\n",
       " 'fetchall',\n",
       " 'fetchone',\n",
       " 'first',\n",
       " 'get',\n",
       " 'resource',\n",
       " 'resources',\n",
       " 'share',\n",
       " 'sharing',\n",
       " 'tag',\n",
       " 'unshare',\n",
       " 'untag',\n",
       " 'where']"
      ]
     },
     "execution_count": 45,
     "metadata": {},
     "output_type": "execute_result"
    }
   ],
   "source": [
    "dir(central.select.projects().subject('XNAT_S00001'))"
   ]
  },
  {
   "cell_type": "markdown",
   "metadata": {},
   "source": [
    "Let's go into the experiments for this subject, where our scan should be contained."
   ]
  },
  {
   "cell_type": "code",
   "execution_count": 48,
   "metadata": {},
   "outputs": [
    {
     "data": {
      "text/plain": [
       "['XNAT_E00001']"
      ]
     },
     "execution_count": 48,
     "metadata": {},
     "output_type": "execute_result"
    }
   ],
   "source": [
    "central.select.projects().subject('XNAT_S00001').experiments().get()"
   ]
  },
  {
   "cell_type": "markdown",
   "metadata": {},
   "source": [
    "Now we know our experiment name, let's see what methods are available for an experiment object:"
   ]
  },
  {
   "cell_type": "code",
   "execution_count": 49,
   "metadata": {},
   "outputs": [
    {
     "data": {
      "text/plain": [
       "['__class__',\n",
       " '__delattr__',\n",
       " '__dict__',\n",
       " '__doc__',\n",
       " '__format__',\n",
       " '__getattribute__',\n",
       " '__getitem__',\n",
       " '__hash__',\n",
       " '__init__',\n",
       " '__iter__',\n",
       " '__metaclass__',\n",
       " '__module__',\n",
       " '__new__',\n",
       " '__nonzero__',\n",
       " '__reduce__',\n",
       " '__reduce_ex__',\n",
       " '__repr__',\n",
       " '__setattr__',\n",
       " '__sizeof__',\n",
       " '__str__',\n",
       " '__subclasshook__',\n",
       " '__weakref__',\n",
       " '_call',\n",
       " '_cbase',\n",
       " '_columns',\n",
       " '_ctype',\n",
       " '_filters',\n",
       " '_id_header',\n",
       " '_intf',\n",
       " '_learn_from_table',\n",
       " '_nested',\n",
       " '_pattern',\n",
       " '_run_callback',\n",
       " 'assessor',\n",
       " 'assessors',\n",
       " 'fetchall',\n",
       " 'fetchone',\n",
       " 'first',\n",
       " 'get',\n",
       " 'reconstruction',\n",
       " 'reconstructions',\n",
       " 'resource',\n",
       " 'resources',\n",
       " 'scan',\n",
       " 'scans',\n",
       " 'share',\n",
       " 'sharing',\n",
       " 'tag',\n",
       " 'unshare',\n",
       " 'untag',\n",
       " 'where']"
      ]
     },
     "execution_count": 49,
     "metadata": {},
     "output_type": "execute_result"
    }
   ],
   "source": [
    "dir(central.select.projects().subject('XNAT_S00001').experiment('XNAT_E00001'))"
   ]
  },
  {
   "cell_type": "markdown",
   "metadata": {},
   "source": [
    "We need to use the scan method to list out the scans for this experiement:"
   ]
  },
  {
   "cell_type": "code",
   "execution_count": 50,
   "metadata": {},
   "outputs": [
    {
     "data": {
      "text/plain": [
       "['6168']"
      ]
     },
     "execution_count": 50,
     "metadata": {},
     "output_type": "execute_result"
    }
   ],
   "source": [
    "central.select.projects().subject('XNAT_S00001').experiment('XNAT_E00001').scans().get()"
   ]
  },
  {
   "cell_type": "markdown",
   "metadata": {},
   "source": [
    "The filter syntax above does not allow for very specifc queries. We can filter the XML response more intracately using xpaths and a sql-type query."
   ]
  },
  {
   "cell_type": "code",
   "execution_count": 63,
   "metadata": {},
   "outputs": [
    {
     "name": "stdout",
     "output_type": "stream",
     "text": [
      "{'project': 'XNAT_2016', 'subject_id': 'XNAT_S00001'}\n"
     ]
    }
   ],
   "source": [
    "table = central.select(\n",
    "            'xnat:subjectData',\n",
    "            ['xnat:subjectData/PROJECT', 'xnat:subjectData/SUBJECT_ID']\n",
    "            ).where([('xnat:subjectData/SUBJECT_ID','=','XNAT_S00001')\n",
    "                     ])\n",
    "\n",
    "for i in table:\n",
    "    print i"
   ]
  }
 ],
 "metadata": {
  "kernelspec": {
   "display_name": "Python 2",
   "language": "python",
   "name": "python2"
  },
  "language_info": {
   "codemirror_mode": {
    "name": "ipython",
    "version": 2
   },
   "file_extension": ".py",
   "mimetype": "text/x-python",
   "name": "python",
   "nbconvert_exporter": "python",
   "pygments_lexer": "ipython2",
   "version": "2.7.15"
  }
 },
 "nbformat": 4,
 "nbformat_minor": 2
}
